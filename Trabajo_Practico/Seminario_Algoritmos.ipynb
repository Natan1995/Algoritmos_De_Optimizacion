{
  "nbformat": 4,
  "nbformat_minor": 0,
  "metadata": {
    "colab": {
      "provenance": [],
      "include_colab_link": true
    },
    "kernelspec": {
      "name": "python3",
      "display_name": "Python 3"
    }
  },
  "cells": [
    {
      "cell_type": "markdown",
      "metadata": {
        "id": "view-in-github",
        "colab_type": "text"
      },
      "source": [
        "<a href=\"https://colab.research.google.com/github/Natan1995/Algoritmos_De_Optimizacion/blob/main/Trabajo_Practico/Seminario_Algoritmos.ipynb\" target=\"_parent\"><img src=\"https://colab.research.google.com/assets/colab-badge.svg\" alt=\"Open In Colab\"/></a>"
      ]
    },
    {
      "cell_type": "markdown",
      "metadata": {
        "id": "hVbXYX-RfPWh"
      },
      "source": [
        "# Algoritmos de optimización - Seminario<br>\n",
        "Nombre y Apellidos:   Gary Córdova<br>\n",
        "Url: https://github.com/Natan1995/Algoritmos_De_Optimizacion/tree/main/Trabajo_Practico<br>\n",
        "Problema: Organizar los horarios de partidos de La Liga<br>\n",
        "\n",
        "Descripción del problema:\n",
        "\n",
        "Desde la La Liga de fútbol profesional se pretende organizar los horarios de los partidos de\n",
        "liga de cada jornada. Se conocen algunos datos que nos deben llevar a diseñar un\n",
        "algoritmo que realice la asignación de los partidos a los horarios de forma que maximice la audiencia.\n",
        "\n",
        "\n",
        "\n",
        "\n",
        "\n",
        "                                        "
      ]
    },
    {
      "cell_type": "code",
      "source": [
        "import numpy as np # linear algebra\n",
        "import pandas as pd # data processing, CSV file I/O (e.g. pd.read_csv)\n",
        "import matplotlib.pyplot as plt\n",
        "from sympy import symbols, diff\n",
        "\n",
        "import random\n",
        "import itertools\n",
        "import math\n",
        "import warnings"
      ],
      "metadata": {
        "id": "jMtZjCpfEH46"
      },
      "execution_count": null,
      "outputs": []
    },
    {
      "cell_type": "code",
      "source": [
        "# Permite ajustar la anchura de la parte útil de la libreta (reduce los márgenes)\n",
        "from IPython.core.display import display, HTML\n",
        "display(HTML(\"<style>.container{ width:98% }</style>\"))"
      ],
      "metadata": {
        "colab": {
          "base_uri": "https://localhost:8080/",
          "height": 17
        },
        "id": "j3KntCnSExIg",
        "outputId": "84ef7236-ce18-4acb-a7c2-fd2ecee51406"
      },
      "execution_count": null,
      "outputs": [
        {
          "output_type": "display_data",
          "data": {
            "text/plain": [
              "<IPython.core.display.HTML object>"
            ],
            "text/html": [
              "<style>.container{ width:98% }</style>"
            ]
          },
          "metadata": {}
        }
      ]
    },
    {
      "cell_type": "code",
      "source": [
        "pd.set_option(\"display.max_columns\",None)\n",
        "pd.set_option(\"display.max_rows\",None)\n",
        "pd.set_option(\"display.max_colwidth\",200)\n",
        "pd.set_option(\"expand_frame_repr\", True)\n",
        "pd.set_option(\"max_info_columns\", 200)\n",
        "pd.set_option(\"display.float_format\", '{:.2f}'.format )\n",
        "#pd.set_option(\"precision\", 2)"
      ],
      "metadata": {
        "id": "nf8l8yMUEyl-"
      },
      "execution_count": null,
      "outputs": []
    },
    {
      "cell_type": "code",
      "source": [
        "warnings.filterwarnings('ignore')"
      ],
      "metadata": {
        "id": "Js70J0kUE0Xj"
      },
      "execution_count": null,
      "outputs": []
    },
    {
      "cell_type": "markdown",
      "metadata": {
        "id": "3_-exlrTgLd-"
      },
      "source": [
        "# 1. Espacio de soluciones del problema\n",
        "\n",
        "*   ¿Cuantas posibilidades hay sin tener en cuenta las restricciones? (*)<br>\n",
        "*   ¿Cuantas posibilidades hay teniendo en cuenta todas las restricciones.\n",
        "\n",
        "\n",
        "  \n",
        "\n",
        "\n"
      ]
    },
    {
      "cell_type": "markdown",
      "source": [
        "Para obtener el espacio de soluciones debemos seguir 3 fases:\n",
        "\n",
        "1.   Tenemos 20 equipos y debemos agruparlos en grupos de 2 para obtener todas las posibilidades de enfrentamientos; es decir tenemos $\\binom{20}{2}$ soluciones. Esto nos da un total de 190 posibles combinaciones.\n",
        "\n",
        "2.   Ahora tenemos que distribuir esos 190 soluciones en 16 distintos horarios; es decir, tenemos un espacio de soluciones de  ${190x16}$ combinaciones (3040 combinaciones).\n",
        "\n",
        "3.   Finalmente Ahora tenemos que distribuir esas soluciones en grupos de 10; esto es debido a que cada jornada tiene 10 enfrentamientos entre ellos. Para lograr este objetivo analizamos la cantidad de grupos de 10 en 10 que se pueden generar con la solución de la fase 2, para eso usamos una comnbinatoria de $\\binom{3040}{10}$,\n"
      ],
      "metadata": {
        "id": "sRno2URhB_he"
      }
    },
    {
      "cell_type": "markdown",
      "source": [
        "Por otro lado, el problema tiene ciertas casuisticas que vamos a considerar aqui:\n",
        "\n",
        "1.   De los 20 equipos, los equipos clase C no se pueden enfrentar entre ellos.; es decir que al total de combinaciones le restaremos las combinaciones de los equipos clase C, calculamos ($\\binom{20}{2}$ - $\\binom{6}{2}$), esto nos da un total de 175 posibles combinaciones.\n",
        "\n",
        "2.   Ahora tenemos que distribuir esos 175 soluciones en 10 distintos horarios (dado que tienen un ratio positivo en la tabla de horarios de la liga); es decir tenemos ${175x10}$ combinaciones (1750 combinaciones).\n",
        "\n",
        "3.   Finalmente Ahora tenemos que distribuir esas soluciones en grupos de 8; debido a que tenemos 2 horarios (Lunes y Viernes) que son fijos. Por ende debemos generar grupos de 8 en 8 que se pueden generar con la solución de la fase 2, para eso usamos una comnbinatoria de $\\binom{1750}{8}$,"
      ],
      "metadata": {
        "id": "WIsi1Az_rj-V"
      }
    },
    {
      "cell_type": "markdown",
      "source": [
        "\n",
        "\n",
        "---\n",
        "\n"
      ],
      "metadata": {
        "id": "IKmMeL9bgqJ_"
      }
    },
    {
      "cell_type": "markdown",
      "metadata": {
        "id": "dzynfVJahHoY"
      },
      "source": [
        "\n",
        "# 2. Modelo para el espacio de soluciones <br>\n",
        "(*) ¿Cual es la estructura de datos que mejor se adapta al problema? Argumentalo.(Es posible que hayas elegido una al principio y veas la necesidad de cambiar, arguentalo)\n"
      ]
    },
    {
      "cell_type": "markdown",
      "source": [
        "Para este problema hemos decidido aplicar listas para definir los 20 equipos que tendra la liga. Adicional a ello usaremos matrices para definir los horarios y los ingresos generados por la combinación de los equipos. Para ellos manejaremos la siguiente nomenclatura:\n"
      ],
      "metadata": {
        "id": "f_FgeKbk8D8T"
      }
    },
    {
      "cell_type": "markdown",
      "source": [
        "\n",
        "\n",
        "\n",
        "\n",
        "1.   Para las categorias de equipos:\n",
        "\n",
        ">*   Categoria A => 0\n",
        ">*   Categoria B => 1\n",
        ">*   Categoria C => 2\n",
        "\n",
        "2.   Las siguientes nomenclaturas para los horarios:\n",
        "\n",
        ">*   12 horas => 0\n",
        ">*   16 horas => 1\n",
        ">*   18 horas => 2\n",
        ">*   20 horas => 3\n",
        "\n",
        "3.   Las siguientes nomenclaturas para los días:\n",
        "\n",
        ">*   Viernes => 0\n",
        ">*   Sabado => 1\n",
        ">*   Domingo => 2\n",
        ">*   Lunes => 3\n",
        "\n",
        "\n"
      ],
      "metadata": {
        "id": "aYSJgoU09dJD"
      }
    },
    {
      "cell_type": "markdown",
      "source": [
        "Ahora que hemos definido la nomenclatura a utilizar, generaremos el código:"
      ],
      "metadata": {
        "id": "co_pNLqF9YBY"
      }
    },
    {
      "cell_type": "code",
      "source": [
        "arr_equipos = ['Real Madrid','Barcelona','Atletico Madrid','Real Betis','Granada','Athletic Club de Bilbao','Getafe','Villareal','Real Sociedad','Osasuna','Valencia','Celta de Vigo','Sevilla','Girona',\n",
        "               'Deportivo Alaves','Cádiz','Rayo Vallecano','Mallorca','UD las Palmas','Almeria']\n",
        "cat_equipos = ['A','A','A','B','B','B','B','B','B','B','B','B','B','B','C','C','C','C','C','C']\n",
        "\n",
        "data_liga  = {\n",
        "    'Equipo': arr_equipos,\n",
        "    'Categoría': cat_equipos\n",
        "}"
      ],
      "metadata": {
        "id": "lvnVgxTiBzN-"
      },
      "execution_count": null,
      "outputs": []
    },
    {
      "cell_type": "code",
      "source": [
        "matriz_audiencia = np.array([[0, 0.55, 0.45,0],[0, 0.7, 0.75,0],[0, 0.80, 0.85,0],[0.4, 1, 1,0.4] ])\n",
        "matriz_ingresos = np.array([[2, 1.3, 1], [1.3, 0.9, 0.75]])\n",
        "arr_coincidencias = [0,0.25,0.45,0.60,0.70,0.75,0.78,0.80,0.80]\n",
        "arr_equipos = [0,0,0,1,1,1,1,1,1,1,1,1,1,1,2,2,2,2,2,2]"
      ],
      "metadata": {
        "id": "yOZ68ciUFhLk"
      },
      "execution_count": null,
      "outputs": []
    },
    {
      "cell_type": "markdown",
      "source": [
        "Generaremos algunos dataframes usando la libreria pandas para poder visualizar como quedaria nuestras estructuras de datos:"
      ],
      "metadata": {
        "id": "u2yHpVg592Tk"
      }
    },
    {
      "cell_type": "code",
      "metadata": {
        "id": "iq6Fe32MgpDX"
      },
      "source": [
        "df_liga = pd.DataFrame(data_liga)\n",
        "df_ingresos = pd.DataFrame(matriz_ingresos, index=['A', 'B'], columns=['A', 'B', 'C'])\n",
        "df_audiencias = pd.DataFrame(matriz_audiencia, index=['12h', '16h','18h','20h'], columns=['Viernes', 'Sabado', 'Domingo','Lunes'])"
      ],
      "execution_count": null,
      "outputs": []
    },
    {
      "cell_type": "code",
      "source": [
        "# Ingresos generados(en millones) por enfrentamientos entre equipos\n",
        "df_ingresos"
      ],
      "metadata": {
        "colab": {
          "base_uri": "https://localhost:8080/",
          "height": 112
        },
        "id": "nMSsIFBo9_gW",
        "outputId": "4136c137-2a8a-412c-c6f1-f82f4e9ca1db"
      },
      "execution_count": null,
      "outputs": [
        {
          "output_type": "execute_result",
          "data": {
            "text/plain": [
              "     A    B    C\n",
              "A 2.00 1.30 1.00\n",
              "B 1.30 0.90 0.75"
            ],
            "text/html": [
              "\n",
              "  <div id=\"df-dce57f05-4752-46d8-82f8-1f694ccb73b7\" class=\"colab-df-container\">\n",
              "    <div>\n",
              "<style scoped>\n",
              "    .dataframe tbody tr th:only-of-type {\n",
              "        vertical-align: middle;\n",
              "    }\n",
              "\n",
              "    .dataframe tbody tr th {\n",
              "        vertical-align: top;\n",
              "    }\n",
              "\n",
              "    .dataframe thead th {\n",
              "        text-align: right;\n",
              "    }\n",
              "</style>\n",
              "<table border=\"1\" class=\"dataframe\">\n",
              "  <thead>\n",
              "    <tr style=\"text-align: right;\">\n",
              "      <th></th>\n",
              "      <th>A</th>\n",
              "      <th>B</th>\n",
              "      <th>C</th>\n",
              "    </tr>\n",
              "  </thead>\n",
              "  <tbody>\n",
              "    <tr>\n",
              "      <th>A</th>\n",
              "      <td>2.00</td>\n",
              "      <td>1.30</td>\n",
              "      <td>1.00</td>\n",
              "    </tr>\n",
              "    <tr>\n",
              "      <th>B</th>\n",
              "      <td>1.30</td>\n",
              "      <td>0.90</td>\n",
              "      <td>0.75</td>\n",
              "    </tr>\n",
              "  </tbody>\n",
              "</table>\n",
              "</div>\n",
              "    <div class=\"colab-df-buttons\">\n",
              "\n",
              "  <div class=\"colab-df-container\">\n",
              "    <button class=\"colab-df-convert\" onclick=\"convertToInteractive('df-dce57f05-4752-46d8-82f8-1f694ccb73b7')\"\n",
              "            title=\"Convert this dataframe to an interactive table.\"\n",
              "            style=\"display:none;\">\n",
              "\n",
              "  <svg xmlns=\"http://www.w3.org/2000/svg\" height=\"24px\" viewBox=\"0 -960 960 960\">\n",
              "    <path d=\"M120-120v-720h720v720H120Zm60-500h600v-160H180v160Zm220 220h160v-160H400v160Zm0 220h160v-160H400v160ZM180-400h160v-160H180v160Zm440 0h160v-160H620v160ZM180-180h160v-160H180v160Zm440 0h160v-160H620v160Z\"/>\n",
              "  </svg>\n",
              "    </button>\n",
              "\n",
              "  <style>\n",
              "    .colab-df-container {\n",
              "      display:flex;\n",
              "      gap: 12px;\n",
              "    }\n",
              "\n",
              "    .colab-df-convert {\n",
              "      background-color: #E8F0FE;\n",
              "      border: none;\n",
              "      border-radius: 50%;\n",
              "      cursor: pointer;\n",
              "      display: none;\n",
              "      fill: #1967D2;\n",
              "      height: 32px;\n",
              "      padding: 0 0 0 0;\n",
              "      width: 32px;\n",
              "    }\n",
              "\n",
              "    .colab-df-convert:hover {\n",
              "      background-color: #E2EBFA;\n",
              "      box-shadow: 0px 1px 2px rgba(60, 64, 67, 0.3), 0px 1px 3px 1px rgba(60, 64, 67, 0.15);\n",
              "      fill: #174EA6;\n",
              "    }\n",
              "\n",
              "    .colab-df-buttons div {\n",
              "      margin-bottom: 4px;\n",
              "    }\n",
              "\n",
              "    [theme=dark] .colab-df-convert {\n",
              "      background-color: #3B4455;\n",
              "      fill: #D2E3FC;\n",
              "    }\n",
              "\n",
              "    [theme=dark] .colab-df-convert:hover {\n",
              "      background-color: #434B5C;\n",
              "      box-shadow: 0px 1px 3px 1px rgba(0, 0, 0, 0.15);\n",
              "      filter: drop-shadow(0px 1px 2px rgba(0, 0, 0, 0.3));\n",
              "      fill: #FFFFFF;\n",
              "    }\n",
              "  </style>\n",
              "\n",
              "    <script>\n",
              "      const buttonEl =\n",
              "        document.querySelector('#df-dce57f05-4752-46d8-82f8-1f694ccb73b7 button.colab-df-convert');\n",
              "      buttonEl.style.display =\n",
              "        google.colab.kernel.accessAllowed ? 'block' : 'none';\n",
              "\n",
              "      async function convertToInteractive(key) {\n",
              "        const element = document.querySelector('#df-dce57f05-4752-46d8-82f8-1f694ccb73b7');\n",
              "        const dataTable =\n",
              "          await google.colab.kernel.invokeFunction('convertToInteractive',\n",
              "                                                    [key], {});\n",
              "        if (!dataTable) return;\n",
              "\n",
              "        const docLinkHtml = 'Like what you see? Visit the ' +\n",
              "          '<a target=\"_blank\" href=https://colab.research.google.com/notebooks/data_table.ipynb>data table notebook</a>'\n",
              "          + ' to learn more about interactive tables.';\n",
              "        element.innerHTML = '';\n",
              "        dataTable['output_type'] = 'display_data';\n",
              "        await google.colab.output.renderOutput(dataTable, element);\n",
              "        const docLink = document.createElement('div');\n",
              "        docLink.innerHTML = docLinkHtml;\n",
              "        element.appendChild(docLink);\n",
              "      }\n",
              "    </script>\n",
              "  </div>\n",
              "\n",
              "\n",
              "<div id=\"df-8ddfbcb8-d17d-44bd-9484-0f13892951e8\">\n",
              "  <button class=\"colab-df-quickchart\" onclick=\"quickchart('df-8ddfbcb8-d17d-44bd-9484-0f13892951e8')\"\n",
              "            title=\"Suggest charts.\"\n",
              "            style=\"display:none;\">\n",
              "\n",
              "<svg xmlns=\"http://www.w3.org/2000/svg\" height=\"24px\"viewBox=\"0 0 24 24\"\n",
              "     width=\"24px\">\n",
              "    <g>\n",
              "        <path d=\"M19 3H5c-1.1 0-2 .9-2 2v14c0 1.1.9 2 2 2h14c1.1 0 2-.9 2-2V5c0-1.1-.9-2-2-2zM9 17H7v-7h2v7zm4 0h-2V7h2v10zm4 0h-2v-4h2v4z\"/>\n",
              "    </g>\n",
              "</svg>\n",
              "  </button>\n",
              "\n",
              "<style>\n",
              "  .colab-df-quickchart {\n",
              "      --bg-color: #E8F0FE;\n",
              "      --fill-color: #1967D2;\n",
              "      --hover-bg-color: #E2EBFA;\n",
              "      --hover-fill-color: #174EA6;\n",
              "      --disabled-fill-color: #AAA;\n",
              "      --disabled-bg-color: #DDD;\n",
              "  }\n",
              "\n",
              "  [theme=dark] .colab-df-quickchart {\n",
              "      --bg-color: #3B4455;\n",
              "      --fill-color: #D2E3FC;\n",
              "      --hover-bg-color: #434B5C;\n",
              "      --hover-fill-color: #FFFFFF;\n",
              "      --disabled-bg-color: #3B4455;\n",
              "      --disabled-fill-color: #666;\n",
              "  }\n",
              "\n",
              "  .colab-df-quickchart {\n",
              "    background-color: var(--bg-color);\n",
              "    border: none;\n",
              "    border-radius: 50%;\n",
              "    cursor: pointer;\n",
              "    display: none;\n",
              "    fill: var(--fill-color);\n",
              "    height: 32px;\n",
              "    padding: 0;\n",
              "    width: 32px;\n",
              "  }\n",
              "\n",
              "  .colab-df-quickchart:hover {\n",
              "    background-color: var(--hover-bg-color);\n",
              "    box-shadow: 0 1px 2px rgba(60, 64, 67, 0.3), 0 1px 3px 1px rgba(60, 64, 67, 0.15);\n",
              "    fill: var(--button-hover-fill-color);\n",
              "  }\n",
              "\n",
              "  .colab-df-quickchart-complete:disabled,\n",
              "  .colab-df-quickchart-complete:disabled:hover {\n",
              "    background-color: var(--disabled-bg-color);\n",
              "    fill: var(--disabled-fill-color);\n",
              "    box-shadow: none;\n",
              "  }\n",
              "\n",
              "  .colab-df-spinner {\n",
              "    border: 2px solid var(--fill-color);\n",
              "    border-color: transparent;\n",
              "    border-bottom-color: var(--fill-color);\n",
              "    animation:\n",
              "      spin 1s steps(1) infinite;\n",
              "  }\n",
              "\n",
              "  @keyframes spin {\n",
              "    0% {\n",
              "      border-color: transparent;\n",
              "      border-bottom-color: var(--fill-color);\n",
              "      border-left-color: var(--fill-color);\n",
              "    }\n",
              "    20% {\n",
              "      border-color: transparent;\n",
              "      border-left-color: var(--fill-color);\n",
              "      border-top-color: var(--fill-color);\n",
              "    }\n",
              "    30% {\n",
              "      border-color: transparent;\n",
              "      border-left-color: var(--fill-color);\n",
              "      border-top-color: var(--fill-color);\n",
              "      border-right-color: var(--fill-color);\n",
              "    }\n",
              "    40% {\n",
              "      border-color: transparent;\n",
              "      border-right-color: var(--fill-color);\n",
              "      border-top-color: var(--fill-color);\n",
              "    }\n",
              "    60% {\n",
              "      border-color: transparent;\n",
              "      border-right-color: var(--fill-color);\n",
              "    }\n",
              "    80% {\n",
              "      border-color: transparent;\n",
              "      border-right-color: var(--fill-color);\n",
              "      border-bottom-color: var(--fill-color);\n",
              "    }\n",
              "    90% {\n",
              "      border-color: transparent;\n",
              "      border-bottom-color: var(--fill-color);\n",
              "    }\n",
              "  }\n",
              "</style>\n",
              "\n",
              "  <script>\n",
              "    async function quickchart(key) {\n",
              "      const quickchartButtonEl =\n",
              "        document.querySelector('#' + key + ' button');\n",
              "      quickchartButtonEl.disabled = true;  // To prevent multiple clicks.\n",
              "      quickchartButtonEl.classList.add('colab-df-spinner');\n",
              "      try {\n",
              "        const charts = await google.colab.kernel.invokeFunction(\n",
              "            'suggestCharts', [key], {});\n",
              "      } catch (error) {\n",
              "        console.error('Error during call to suggestCharts:', error);\n",
              "      }\n",
              "      quickchartButtonEl.classList.remove('colab-df-spinner');\n",
              "      quickchartButtonEl.classList.add('colab-df-quickchart-complete');\n",
              "    }\n",
              "    (() => {\n",
              "      let quickchartButtonEl =\n",
              "        document.querySelector('#df-8ddfbcb8-d17d-44bd-9484-0f13892951e8 button');\n",
              "      quickchartButtonEl.style.display =\n",
              "        google.colab.kernel.accessAllowed ? 'block' : 'none';\n",
              "    })();\n",
              "  </script>\n",
              "</div>\n",
              "    </div>\n",
              "  </div>\n"
            ]
          },
          "metadata": {},
          "execution_count": 8
        }
      ]
    },
    {
      "cell_type": "code",
      "source": [
        "#Ponderación que se le aplica a los ingresos dependiendo del horario y las horas\n",
        "df_audiencias"
      ],
      "metadata": {
        "colab": {
          "base_uri": "https://localhost:8080/",
          "height": 175
        },
        "id": "xkdhF2Q2-DuY",
        "outputId": "8956ad01-d17c-4d24-d17c-eee31062816c"
      },
      "execution_count": null,
      "outputs": [
        {
          "output_type": "execute_result",
          "data": {
            "text/plain": [
              "     Viernes  Sabado  Domingo  Lunes\n",
              "12h     0.00    0.55     0.45   0.00\n",
              "16h     0.00    0.70     0.75   0.00\n",
              "18h     0.00    0.80     0.85   0.00\n",
              "20h     0.40    1.00     1.00   0.40"
            ],
            "text/html": [
              "\n",
              "  <div id=\"df-0c3e7839-0717-44fa-a2c0-b14f213296be\" class=\"colab-df-container\">\n",
              "    <div>\n",
              "<style scoped>\n",
              "    .dataframe tbody tr th:only-of-type {\n",
              "        vertical-align: middle;\n",
              "    }\n",
              "\n",
              "    .dataframe tbody tr th {\n",
              "        vertical-align: top;\n",
              "    }\n",
              "\n",
              "    .dataframe thead th {\n",
              "        text-align: right;\n",
              "    }\n",
              "</style>\n",
              "<table border=\"1\" class=\"dataframe\">\n",
              "  <thead>\n",
              "    <tr style=\"text-align: right;\">\n",
              "      <th></th>\n",
              "      <th>Viernes</th>\n",
              "      <th>Sabado</th>\n",
              "      <th>Domingo</th>\n",
              "      <th>Lunes</th>\n",
              "    </tr>\n",
              "  </thead>\n",
              "  <tbody>\n",
              "    <tr>\n",
              "      <th>12h</th>\n",
              "      <td>0.00</td>\n",
              "      <td>0.55</td>\n",
              "      <td>0.45</td>\n",
              "      <td>0.00</td>\n",
              "    </tr>\n",
              "    <tr>\n",
              "      <th>16h</th>\n",
              "      <td>0.00</td>\n",
              "      <td>0.70</td>\n",
              "      <td>0.75</td>\n",
              "      <td>0.00</td>\n",
              "    </tr>\n",
              "    <tr>\n",
              "      <th>18h</th>\n",
              "      <td>0.00</td>\n",
              "      <td>0.80</td>\n",
              "      <td>0.85</td>\n",
              "      <td>0.00</td>\n",
              "    </tr>\n",
              "    <tr>\n",
              "      <th>20h</th>\n",
              "      <td>0.40</td>\n",
              "      <td>1.00</td>\n",
              "      <td>1.00</td>\n",
              "      <td>0.40</td>\n",
              "    </tr>\n",
              "  </tbody>\n",
              "</table>\n",
              "</div>\n",
              "    <div class=\"colab-df-buttons\">\n",
              "\n",
              "  <div class=\"colab-df-container\">\n",
              "    <button class=\"colab-df-convert\" onclick=\"convertToInteractive('df-0c3e7839-0717-44fa-a2c0-b14f213296be')\"\n",
              "            title=\"Convert this dataframe to an interactive table.\"\n",
              "            style=\"display:none;\">\n",
              "\n",
              "  <svg xmlns=\"http://www.w3.org/2000/svg\" height=\"24px\" viewBox=\"0 -960 960 960\">\n",
              "    <path d=\"M120-120v-720h720v720H120Zm60-500h600v-160H180v160Zm220 220h160v-160H400v160Zm0 220h160v-160H400v160ZM180-400h160v-160H180v160Zm440 0h160v-160H620v160ZM180-180h160v-160H180v160Zm440 0h160v-160H620v160Z\"/>\n",
              "  </svg>\n",
              "    </button>\n",
              "\n",
              "  <style>\n",
              "    .colab-df-container {\n",
              "      display:flex;\n",
              "      gap: 12px;\n",
              "    }\n",
              "\n",
              "    .colab-df-convert {\n",
              "      background-color: #E8F0FE;\n",
              "      border: none;\n",
              "      border-radius: 50%;\n",
              "      cursor: pointer;\n",
              "      display: none;\n",
              "      fill: #1967D2;\n",
              "      height: 32px;\n",
              "      padding: 0 0 0 0;\n",
              "      width: 32px;\n",
              "    }\n",
              "\n",
              "    .colab-df-convert:hover {\n",
              "      background-color: #E2EBFA;\n",
              "      box-shadow: 0px 1px 2px rgba(60, 64, 67, 0.3), 0px 1px 3px 1px rgba(60, 64, 67, 0.15);\n",
              "      fill: #174EA6;\n",
              "    }\n",
              "\n",
              "    .colab-df-buttons div {\n",
              "      margin-bottom: 4px;\n",
              "    }\n",
              "\n",
              "    [theme=dark] .colab-df-convert {\n",
              "      background-color: #3B4455;\n",
              "      fill: #D2E3FC;\n",
              "    }\n",
              "\n",
              "    [theme=dark] .colab-df-convert:hover {\n",
              "      background-color: #434B5C;\n",
              "      box-shadow: 0px 1px 3px 1px rgba(0, 0, 0, 0.15);\n",
              "      filter: drop-shadow(0px 1px 2px rgba(0, 0, 0, 0.3));\n",
              "      fill: #FFFFFF;\n",
              "    }\n",
              "  </style>\n",
              "\n",
              "    <script>\n",
              "      const buttonEl =\n",
              "        document.querySelector('#df-0c3e7839-0717-44fa-a2c0-b14f213296be button.colab-df-convert');\n",
              "      buttonEl.style.display =\n",
              "        google.colab.kernel.accessAllowed ? 'block' : 'none';\n",
              "\n",
              "      async function convertToInteractive(key) {\n",
              "        const element = document.querySelector('#df-0c3e7839-0717-44fa-a2c0-b14f213296be');\n",
              "        const dataTable =\n",
              "          await google.colab.kernel.invokeFunction('convertToInteractive',\n",
              "                                                    [key], {});\n",
              "        if (!dataTable) return;\n",
              "\n",
              "        const docLinkHtml = 'Like what you see? Visit the ' +\n",
              "          '<a target=\"_blank\" href=https://colab.research.google.com/notebooks/data_table.ipynb>data table notebook</a>'\n",
              "          + ' to learn more about interactive tables.';\n",
              "        element.innerHTML = '';\n",
              "        dataTable['output_type'] = 'display_data';\n",
              "        await google.colab.output.renderOutput(dataTable, element);\n",
              "        const docLink = document.createElement('div');\n",
              "        docLink.innerHTML = docLinkHtml;\n",
              "        element.appendChild(docLink);\n",
              "      }\n",
              "    </script>\n",
              "  </div>\n",
              "\n",
              "\n",
              "<div id=\"df-668bf49d-5aa2-4021-9ec0-97a208abd932\">\n",
              "  <button class=\"colab-df-quickchart\" onclick=\"quickchart('df-668bf49d-5aa2-4021-9ec0-97a208abd932')\"\n",
              "            title=\"Suggest charts.\"\n",
              "            style=\"display:none;\">\n",
              "\n",
              "<svg xmlns=\"http://www.w3.org/2000/svg\" height=\"24px\"viewBox=\"0 0 24 24\"\n",
              "     width=\"24px\">\n",
              "    <g>\n",
              "        <path d=\"M19 3H5c-1.1 0-2 .9-2 2v14c0 1.1.9 2 2 2h14c1.1 0 2-.9 2-2V5c0-1.1-.9-2-2-2zM9 17H7v-7h2v7zm4 0h-2V7h2v10zm4 0h-2v-4h2v4z\"/>\n",
              "    </g>\n",
              "</svg>\n",
              "  </button>\n",
              "\n",
              "<style>\n",
              "  .colab-df-quickchart {\n",
              "      --bg-color: #E8F0FE;\n",
              "      --fill-color: #1967D2;\n",
              "      --hover-bg-color: #E2EBFA;\n",
              "      --hover-fill-color: #174EA6;\n",
              "      --disabled-fill-color: #AAA;\n",
              "      --disabled-bg-color: #DDD;\n",
              "  }\n",
              "\n",
              "  [theme=dark] .colab-df-quickchart {\n",
              "      --bg-color: #3B4455;\n",
              "      --fill-color: #D2E3FC;\n",
              "      --hover-bg-color: #434B5C;\n",
              "      --hover-fill-color: #FFFFFF;\n",
              "      --disabled-bg-color: #3B4455;\n",
              "      --disabled-fill-color: #666;\n",
              "  }\n",
              "\n",
              "  .colab-df-quickchart {\n",
              "    background-color: var(--bg-color);\n",
              "    border: none;\n",
              "    border-radius: 50%;\n",
              "    cursor: pointer;\n",
              "    display: none;\n",
              "    fill: var(--fill-color);\n",
              "    height: 32px;\n",
              "    padding: 0;\n",
              "    width: 32px;\n",
              "  }\n",
              "\n",
              "  .colab-df-quickchart:hover {\n",
              "    background-color: var(--hover-bg-color);\n",
              "    box-shadow: 0 1px 2px rgba(60, 64, 67, 0.3), 0 1px 3px 1px rgba(60, 64, 67, 0.15);\n",
              "    fill: var(--button-hover-fill-color);\n",
              "  }\n",
              "\n",
              "  .colab-df-quickchart-complete:disabled,\n",
              "  .colab-df-quickchart-complete:disabled:hover {\n",
              "    background-color: var(--disabled-bg-color);\n",
              "    fill: var(--disabled-fill-color);\n",
              "    box-shadow: none;\n",
              "  }\n",
              "\n",
              "  .colab-df-spinner {\n",
              "    border: 2px solid var(--fill-color);\n",
              "    border-color: transparent;\n",
              "    border-bottom-color: var(--fill-color);\n",
              "    animation:\n",
              "      spin 1s steps(1) infinite;\n",
              "  }\n",
              "\n",
              "  @keyframes spin {\n",
              "    0% {\n",
              "      border-color: transparent;\n",
              "      border-bottom-color: var(--fill-color);\n",
              "      border-left-color: var(--fill-color);\n",
              "    }\n",
              "    20% {\n",
              "      border-color: transparent;\n",
              "      border-left-color: var(--fill-color);\n",
              "      border-top-color: var(--fill-color);\n",
              "    }\n",
              "    30% {\n",
              "      border-color: transparent;\n",
              "      border-left-color: var(--fill-color);\n",
              "      border-top-color: var(--fill-color);\n",
              "      border-right-color: var(--fill-color);\n",
              "    }\n",
              "    40% {\n",
              "      border-color: transparent;\n",
              "      border-right-color: var(--fill-color);\n",
              "      border-top-color: var(--fill-color);\n",
              "    }\n",
              "    60% {\n",
              "      border-color: transparent;\n",
              "      border-right-color: var(--fill-color);\n",
              "    }\n",
              "    80% {\n",
              "      border-color: transparent;\n",
              "      border-right-color: var(--fill-color);\n",
              "      border-bottom-color: var(--fill-color);\n",
              "    }\n",
              "    90% {\n",
              "      border-color: transparent;\n",
              "      border-bottom-color: var(--fill-color);\n",
              "    }\n",
              "  }\n",
              "</style>\n",
              "\n",
              "  <script>\n",
              "    async function quickchart(key) {\n",
              "      const quickchartButtonEl =\n",
              "        document.querySelector('#' + key + ' button');\n",
              "      quickchartButtonEl.disabled = true;  // To prevent multiple clicks.\n",
              "      quickchartButtonEl.classList.add('colab-df-spinner');\n",
              "      try {\n",
              "        const charts = await google.colab.kernel.invokeFunction(\n",
              "            'suggestCharts', [key], {});\n",
              "      } catch (error) {\n",
              "        console.error('Error during call to suggestCharts:', error);\n",
              "      }\n",
              "      quickchartButtonEl.classList.remove('colab-df-spinner');\n",
              "      quickchartButtonEl.classList.add('colab-df-quickchart-complete');\n",
              "    }\n",
              "    (() => {\n",
              "      let quickchartButtonEl =\n",
              "        document.querySelector('#df-668bf49d-5aa2-4021-9ec0-97a208abd932 button');\n",
              "      quickchartButtonEl.style.display =\n",
              "        google.colab.kernel.accessAllowed ? 'block' : 'none';\n",
              "    })();\n",
              "  </script>\n",
              "</div>\n",
              "    </div>\n",
              "  </div>\n"
            ]
          },
          "metadata": {},
          "execution_count": 9
        }
      ]
    },
    {
      "cell_type": "code",
      "source": [
        "# Distribución de los categorias de la liga segun su número de seguidores\n",
        "df_liga.groupby('Categoría').count().reset_index()"
      ],
      "metadata": {
        "colab": {
          "base_uri": "https://localhost:8080/",
          "height": 143
        },
        "id": "QCp61vky-bhf",
        "outputId": "3e716497-6db1-4b62-8352-bd9025dcb75c"
      },
      "execution_count": null,
      "outputs": [
        {
          "output_type": "execute_result",
          "data": {
            "text/plain": [
              "  Categoría  Equipo\n",
              "0         A       3\n",
              "1         B      11\n",
              "2         C       6"
            ],
            "text/html": [
              "\n",
              "  <div id=\"df-7910a5ea-93ee-46dc-8bc3-0e56b9895972\" class=\"colab-df-container\">\n",
              "    <div>\n",
              "<style scoped>\n",
              "    .dataframe tbody tr th:only-of-type {\n",
              "        vertical-align: middle;\n",
              "    }\n",
              "\n",
              "    .dataframe tbody tr th {\n",
              "        vertical-align: top;\n",
              "    }\n",
              "\n",
              "    .dataframe thead th {\n",
              "        text-align: right;\n",
              "    }\n",
              "</style>\n",
              "<table border=\"1\" class=\"dataframe\">\n",
              "  <thead>\n",
              "    <tr style=\"text-align: right;\">\n",
              "      <th></th>\n",
              "      <th>Categoría</th>\n",
              "      <th>Equipo</th>\n",
              "    </tr>\n",
              "  </thead>\n",
              "  <tbody>\n",
              "    <tr>\n",
              "      <th>0</th>\n",
              "      <td>A</td>\n",
              "      <td>3</td>\n",
              "    </tr>\n",
              "    <tr>\n",
              "      <th>1</th>\n",
              "      <td>B</td>\n",
              "      <td>11</td>\n",
              "    </tr>\n",
              "    <tr>\n",
              "      <th>2</th>\n",
              "      <td>C</td>\n",
              "      <td>6</td>\n",
              "    </tr>\n",
              "  </tbody>\n",
              "</table>\n",
              "</div>\n",
              "    <div class=\"colab-df-buttons\">\n",
              "\n",
              "  <div class=\"colab-df-container\">\n",
              "    <button class=\"colab-df-convert\" onclick=\"convertToInteractive('df-7910a5ea-93ee-46dc-8bc3-0e56b9895972')\"\n",
              "            title=\"Convert this dataframe to an interactive table.\"\n",
              "            style=\"display:none;\">\n",
              "\n",
              "  <svg xmlns=\"http://www.w3.org/2000/svg\" height=\"24px\" viewBox=\"0 -960 960 960\">\n",
              "    <path d=\"M120-120v-720h720v720H120Zm60-500h600v-160H180v160Zm220 220h160v-160H400v160Zm0 220h160v-160H400v160ZM180-400h160v-160H180v160Zm440 0h160v-160H620v160ZM180-180h160v-160H180v160Zm440 0h160v-160H620v160Z\"/>\n",
              "  </svg>\n",
              "    </button>\n",
              "\n",
              "  <style>\n",
              "    .colab-df-container {\n",
              "      display:flex;\n",
              "      gap: 12px;\n",
              "    }\n",
              "\n",
              "    .colab-df-convert {\n",
              "      background-color: #E8F0FE;\n",
              "      border: none;\n",
              "      border-radius: 50%;\n",
              "      cursor: pointer;\n",
              "      display: none;\n",
              "      fill: #1967D2;\n",
              "      height: 32px;\n",
              "      padding: 0 0 0 0;\n",
              "      width: 32px;\n",
              "    }\n",
              "\n",
              "    .colab-df-convert:hover {\n",
              "      background-color: #E2EBFA;\n",
              "      box-shadow: 0px 1px 2px rgba(60, 64, 67, 0.3), 0px 1px 3px 1px rgba(60, 64, 67, 0.15);\n",
              "      fill: #174EA6;\n",
              "    }\n",
              "\n",
              "    .colab-df-buttons div {\n",
              "      margin-bottom: 4px;\n",
              "    }\n",
              "\n",
              "    [theme=dark] .colab-df-convert {\n",
              "      background-color: #3B4455;\n",
              "      fill: #D2E3FC;\n",
              "    }\n",
              "\n",
              "    [theme=dark] .colab-df-convert:hover {\n",
              "      background-color: #434B5C;\n",
              "      box-shadow: 0px 1px 3px 1px rgba(0, 0, 0, 0.15);\n",
              "      filter: drop-shadow(0px 1px 2px rgba(0, 0, 0, 0.3));\n",
              "      fill: #FFFFFF;\n",
              "    }\n",
              "  </style>\n",
              "\n",
              "    <script>\n",
              "      const buttonEl =\n",
              "        document.querySelector('#df-7910a5ea-93ee-46dc-8bc3-0e56b9895972 button.colab-df-convert');\n",
              "      buttonEl.style.display =\n",
              "        google.colab.kernel.accessAllowed ? 'block' : 'none';\n",
              "\n",
              "      async function convertToInteractive(key) {\n",
              "        const element = document.querySelector('#df-7910a5ea-93ee-46dc-8bc3-0e56b9895972');\n",
              "        const dataTable =\n",
              "          await google.colab.kernel.invokeFunction('convertToInteractive',\n",
              "                                                    [key], {});\n",
              "        if (!dataTable) return;\n",
              "\n",
              "        const docLinkHtml = 'Like what you see? Visit the ' +\n",
              "          '<a target=\"_blank\" href=https://colab.research.google.com/notebooks/data_table.ipynb>data table notebook</a>'\n",
              "          + ' to learn more about interactive tables.';\n",
              "        element.innerHTML = '';\n",
              "        dataTable['output_type'] = 'display_data';\n",
              "        await google.colab.output.renderOutput(dataTable, element);\n",
              "        const docLink = document.createElement('div');\n",
              "        docLink.innerHTML = docLinkHtml;\n",
              "        element.appendChild(docLink);\n",
              "      }\n",
              "    </script>\n",
              "  </div>\n",
              "\n",
              "\n",
              "<div id=\"df-24ada6eb-b006-465f-97d2-66c151c0709e\">\n",
              "  <button class=\"colab-df-quickchart\" onclick=\"quickchart('df-24ada6eb-b006-465f-97d2-66c151c0709e')\"\n",
              "            title=\"Suggest charts.\"\n",
              "            style=\"display:none;\">\n",
              "\n",
              "<svg xmlns=\"http://www.w3.org/2000/svg\" height=\"24px\"viewBox=\"0 0 24 24\"\n",
              "     width=\"24px\">\n",
              "    <g>\n",
              "        <path d=\"M19 3H5c-1.1 0-2 .9-2 2v14c0 1.1.9 2 2 2h14c1.1 0 2-.9 2-2V5c0-1.1-.9-2-2-2zM9 17H7v-7h2v7zm4 0h-2V7h2v10zm4 0h-2v-4h2v4z\"/>\n",
              "    </g>\n",
              "</svg>\n",
              "  </button>\n",
              "\n",
              "<style>\n",
              "  .colab-df-quickchart {\n",
              "      --bg-color: #E8F0FE;\n",
              "      --fill-color: #1967D2;\n",
              "      --hover-bg-color: #E2EBFA;\n",
              "      --hover-fill-color: #174EA6;\n",
              "      --disabled-fill-color: #AAA;\n",
              "      --disabled-bg-color: #DDD;\n",
              "  }\n",
              "\n",
              "  [theme=dark] .colab-df-quickchart {\n",
              "      --bg-color: #3B4455;\n",
              "      --fill-color: #D2E3FC;\n",
              "      --hover-bg-color: #434B5C;\n",
              "      --hover-fill-color: #FFFFFF;\n",
              "      --disabled-bg-color: #3B4455;\n",
              "      --disabled-fill-color: #666;\n",
              "  }\n",
              "\n",
              "  .colab-df-quickchart {\n",
              "    background-color: var(--bg-color);\n",
              "    border: none;\n",
              "    border-radius: 50%;\n",
              "    cursor: pointer;\n",
              "    display: none;\n",
              "    fill: var(--fill-color);\n",
              "    height: 32px;\n",
              "    padding: 0;\n",
              "    width: 32px;\n",
              "  }\n",
              "\n",
              "  .colab-df-quickchart:hover {\n",
              "    background-color: var(--hover-bg-color);\n",
              "    box-shadow: 0 1px 2px rgba(60, 64, 67, 0.3), 0 1px 3px 1px rgba(60, 64, 67, 0.15);\n",
              "    fill: var(--button-hover-fill-color);\n",
              "  }\n",
              "\n",
              "  .colab-df-quickchart-complete:disabled,\n",
              "  .colab-df-quickchart-complete:disabled:hover {\n",
              "    background-color: var(--disabled-bg-color);\n",
              "    fill: var(--disabled-fill-color);\n",
              "    box-shadow: none;\n",
              "  }\n",
              "\n",
              "  .colab-df-spinner {\n",
              "    border: 2px solid var(--fill-color);\n",
              "    border-color: transparent;\n",
              "    border-bottom-color: var(--fill-color);\n",
              "    animation:\n",
              "      spin 1s steps(1) infinite;\n",
              "  }\n",
              "\n",
              "  @keyframes spin {\n",
              "    0% {\n",
              "      border-color: transparent;\n",
              "      border-bottom-color: var(--fill-color);\n",
              "      border-left-color: var(--fill-color);\n",
              "    }\n",
              "    20% {\n",
              "      border-color: transparent;\n",
              "      border-left-color: var(--fill-color);\n",
              "      border-top-color: var(--fill-color);\n",
              "    }\n",
              "    30% {\n",
              "      border-color: transparent;\n",
              "      border-left-color: var(--fill-color);\n",
              "      border-top-color: var(--fill-color);\n",
              "      border-right-color: var(--fill-color);\n",
              "    }\n",
              "    40% {\n",
              "      border-color: transparent;\n",
              "      border-right-color: var(--fill-color);\n",
              "      border-top-color: var(--fill-color);\n",
              "    }\n",
              "    60% {\n",
              "      border-color: transparent;\n",
              "      border-right-color: var(--fill-color);\n",
              "    }\n",
              "    80% {\n",
              "      border-color: transparent;\n",
              "      border-right-color: var(--fill-color);\n",
              "      border-bottom-color: var(--fill-color);\n",
              "    }\n",
              "    90% {\n",
              "      border-color: transparent;\n",
              "      border-bottom-color: var(--fill-color);\n",
              "    }\n",
              "  }\n",
              "</style>\n",
              "\n",
              "  <script>\n",
              "    async function quickchart(key) {\n",
              "      const quickchartButtonEl =\n",
              "        document.querySelector('#' + key + ' button');\n",
              "      quickchartButtonEl.disabled = true;  // To prevent multiple clicks.\n",
              "      quickchartButtonEl.classList.add('colab-df-spinner');\n",
              "      try {\n",
              "        const charts = await google.colab.kernel.invokeFunction(\n",
              "            'suggestCharts', [key], {});\n",
              "      } catch (error) {\n",
              "        console.error('Error during call to suggestCharts:', error);\n",
              "      }\n",
              "      quickchartButtonEl.classList.remove('colab-df-spinner');\n",
              "      quickchartButtonEl.classList.add('colab-df-quickchart-complete');\n",
              "    }\n",
              "    (() => {\n",
              "      let quickchartButtonEl =\n",
              "        document.querySelector('#df-24ada6eb-b006-465f-97d2-66c151c0709e button');\n",
              "      quickchartButtonEl.style.display =\n",
              "        google.colab.kernel.accessAllowed ? 'block' : 'none';\n",
              "    })();\n",
              "  </script>\n",
              "</div>\n",
              "    </div>\n",
              "  </div>\n"
            ]
          },
          "metadata": {},
          "execution_count": 10
        }
      ]
    },
    {
      "cell_type": "markdown",
      "source": [
        "Finalmente el resultado final del ejercicio sera encontrar un arreglo de tuplas cuya combinación maximice los ingresos recaudados por la liga.\n",
        "Por ejemplo si tuvieramos 2 partidos, sería: [(0,1,[0,2]),(1,2,[1,2])].\n",
        "Esto podría leerse de la siguiente manera:\n",
        "\n",
        "*   El primer partido seria entre uno de clasificación A vs uno de clasificación B el día Domingo a las 12h.\n",
        "*   El segundo partido seria entre uno de clasificación B vs uno de clasificación C el día Domingo a las 16h.\n",
        "\n",
        "\n"
      ],
      "metadata": {
        "id": "i6FPmlPQ_Fms"
      }
    },
    {
      "cell_type": "markdown",
      "source": [
        "\n",
        "\n",
        "---\n",
        "\n"
      ],
      "metadata": {
        "id": "zoCPdv4qgpAf"
      }
    },
    {
      "cell_type": "markdown",
      "source": [
        "# 3. Modelo para el espacio de soluciones <br>\n",
        "\n",
        "\n",
        "*   (*)¿Cual es la función objetivo?\n",
        "*   (*)¿Es un problema de maximización o minimización?"
      ],
      "metadata": {
        "id": "sEvlZDTvUL7X"
      }
    },
    {
      "cell_type": "markdown",
      "source": [
        "El problema dado es un problema de maximización; debido a que su objetivo es maximizar los ingresos percibidos por la liga; si bien es importante incrementar la audiencia, esta debe estar alineada a una buena distribución de los partidos para asi generar los ingresos deseados.\n",
        "La formulación del problema puede ser dada de la siguiente forma:"
      ],
      "metadata": {
        "id": "vzQtU3U95PdP"
      }
    },
    {
      "cell_type": "markdown",
      "source": [
        "Función Objetivo: Maximizar( $\\sum_{i=1}^{n} (Partido_{e_{1},e_{2}} * Ponderacion_{d,h}*(1-correccion_{d,h}))$ )\n",
        "\n",
        "<br> Dado las siguientes restricciones:\n",
        "\n",
        "*   $\\forall e_{1},e_{2} \\in \\{A,B,C\\}$\n",
        "*   $\\forall d \\in \\{Viernes,Sabado,Domingo,Lunes\\}$\n",
        "*   $\\forall h \\in \\{12h,16h,18h,20h\\}$\n",
        "*   $\\exists (Partido_{e_{1},e_{2},d})$; en donde  $\\forall d \\in \\{Viernes,Lunes\\}$\n",
        "\n",
        "\n",
        "\n",
        "\n",
        "\n"
      ],
      "metadata": {
        "id": "phUcaVYEW4fq"
      }
    },
    {
      "cell_type": "markdown",
      "source": [
        "\n",
        "\n",
        "---\n",
        "\n"
      ],
      "metadata": {
        "id": "FAKqnOnmgmZl"
      }
    },
    {
      "cell_type": "markdown",
      "metadata": {
        "id": "rlnTYgY1j6I2"
      },
      "source": [
        "# 4. Algoritmo por Fuerza Bruta"
      ]
    },
    {
      "cell_type": "markdown",
      "source": [
        "En esta sección, implementaremos un algoritmo de fuerza bruta que satisfaga nuestras restricciones y logre genererar una jornada para la liga de futbol"
      ],
      "metadata": {
        "id": "ti4Y68BKZ94O"
      }
    },
    {
      "cell_type": "code",
      "source": [
        "# Funcion para definir los enfrentamientos validos\n",
        "def get_enfrent_validos(matriz_ingresos):\n",
        "\n",
        "  filas, columnas = matriz_ingresos.shape\n",
        "  indices_filas = list(range(filas))\n",
        "  indices_columnas = list(range(columnas))\n",
        "\n",
        "  enfr_validos = list(itertools.product(indices_filas, indices_columnas)) +  list(itertools.product(indices_columnas, indices_filas))\n",
        "  return list(set(enfr_validos))"
      ],
      "metadata": {
        "id": "_1J0qtWNA2d1"
      },
      "execution_count": null,
      "outputs": []
    },
    {
      "cell_type": "code",
      "source": [
        "# Funcion para definir los horarios en que se puede jugar un partido\n",
        "def get_horar_validos(matriz_audiencias):\n",
        "\n",
        "  filas, columnas = matriz_audiencias.shape\n",
        "  indices_filas = list(range(filas))\n",
        "  indices_columnas = list(range(columnas))\n",
        "\n",
        "  #hor_validos = list(itertools.product(indices_filas, indices_columnas))\n",
        "  #hor_validos = [list(comb) for comb in itertools.product(indices_filas, indices_columnas)]\n",
        "  hor_validos = [list(comb) for comb in itertools.product(indices_filas, indices_columnas) if matriz_audiencias[comb[0]][comb[1]] > 0]\n",
        "  return hor_validos"
      ],
      "metadata": {
        "id": "uSxyss4NV6he"
      },
      "execution_count": null,
      "outputs": []
    },
    {
      "cell_type": "code",
      "source": [
        "# Funcion que genera emparejamientos de equipos\n",
        "def get_emp_equipos(arr_equipos, hor_oblig):\n",
        "\n",
        "  # Iterar a través de los equipos disponibles\n",
        "  emparejamientos = []\n",
        "  equipos_disponibles = arr_equipos.copy()\n",
        "  enfr_validos = get_enfrent_validos(matriz_ingresos)\n",
        "  hor_validos = get_horar_validos(matriz_audiencia)\n",
        "  horario_jornada = np.zeros((matriz_audiencia.shape))\n",
        "  cont = 0\n",
        "\n",
        "  while equipos_disponibles:\n",
        "\n",
        "\n",
        "      #equipo_1 = equipos_disponibles.pop()\n",
        "      equipo_1 = random.choice(equipos_disponibles)\n",
        "      equipos_disponibles.remove(equipo_1)\n",
        "\n",
        "      # Eliminar el equipo asignado de los equipos disponibles\n",
        "      equipo_2 = random.choice(equipos_disponibles)\n",
        "      equipos_disponibles.remove(equipo_2)\n",
        "\n",
        "      equipo_local = min(equipo_1,equipo_2)\n",
        "      equipo_rival = max(equipo_1,equipo_2)\n",
        "\n",
        "      # Verificar si el emparejamiento está en enfrentamientos_validos\n",
        "      if(equipo_local, equipo_rival) in enfr_validos:\n",
        "\n",
        "        if (cont < 2):\n",
        "          horario_valido = random.choice(hor_oblig)\n",
        "          hor_oblig.remove(horario_valido)\n",
        "        else:\n",
        "          horario_valido = random.choice(hor_validos)\n",
        "\n",
        "        # Agregar el emparejamiento a la lista\n",
        "        emparejamientos.append((equipo_local, equipo_rival, horario_valido))\n",
        "        horario_jornada [horario_valido[0],horario_valido[1]] = horario_jornada [horario_valido[0],horario_valido[1]] + 1\n",
        "        cont+=1\n",
        "\n",
        "  return emparejamientos, horario_jornada"
      ],
      "metadata": {
        "id": "Df3doNxhcWTe"
      },
      "execution_count": null,
      "outputs": []
    },
    {
      "cell_type": "code",
      "source": [
        "# Esta función nos permite obtener el costo percibido de un enfrentamiento, tomando en consideración el horario y la clasificación de los equipos\n",
        "def get_costo_jornada(enfr_equipos,horario_jornada):\n",
        "\n",
        "  ingres_tot_aud = 0\n",
        "\n",
        "  if(enfr_equipos is not None):\n",
        "    for emparejamiento in enfr_equipos:\n",
        "\n",
        "        equipo_local, equipo_rival, horario_valido = emparejamiento\n",
        "\n",
        "        base_ingresos = matriz_ingresos[equipo_local,equipo_rival]\n",
        "        ratio_horario = matriz_audiencia[horario_valido[0],horario_valido[1]]\n",
        "        correc_coinc_jornada = arr_coincidencias[int(horario_jornada[horario_valido[0],horario_valido[1]])]\n",
        "        ingreso_percibido = (base_ingresos * ratio_horario) * (1-correc_coinc_jornada)\n",
        "\n",
        "        ingres_tot_aud = round(ingres_tot_aud + ingreso_percibido,2)\n",
        "\n",
        "  return ingres_tot_aud"
      ],
      "metadata": {
        "id": "Zf4aeHsNrFMu"
      },
      "execution_count": null,
      "outputs": []
    },
    {
      "cell_type": "code",
      "source": [
        "#Ejemplo de uso para calcular los ingresos de una jornada y como quedaria la liga\n",
        "enfr_equipos,horario_jornada = get_emp_equipos(arr_equipos, [[3,0],[3,3]])\n",
        "ingres_tot_aud = get_costo_jornada(enfr_equipos,horario_jornada)\n",
        "\n",
        "print(f\"Enfrentamientos: {enfr_equipos}\")\n",
        "print(f\"Ingreso Recibido: {ingres_tot_aud}\")"
      ],
      "metadata": {
        "colab": {
          "base_uri": "https://localhost:8080/"
        },
        "id": "bEkjz1-ycXP1",
        "outputId": "59a7aace-cae2-4ba5-a923-590d4b81a100"
      },
      "execution_count": null,
      "outputs": [
        {
          "output_type": "stream",
          "name": "stdout",
          "text": [
            "Enfrentamientos: [(1, 1, [3, 0]), (1, 2, [3, 3]), (0, 1, [0, 2]), (0, 1, [3, 1]), (1, 2, [2, 1]), (1, 2, [3, 2]), (1, 1, [3, 0]), (0, 1, [3, 0]), (1, 2, [3, 2])]\n",
            "Ingreso Recibido: 3.4\n"
          ]
        }
      ]
    },
    {
      "cell_type": "markdown",
      "source": [
        "Vamos a implementar nuestro código para generar 100 simulaciones y quedarnos con la jornada de futbol que mejor costo recaude:"
      ],
      "metadata": {
        "id": "WCld5cVSa7Vc"
      }
    },
    {
      "cell_type": "code",
      "source": [
        "#Realizaremos una simulacion para generar 10 posibles jornadas\n",
        "n_simulaciones = 10\n",
        "#n_simulaciones = get_esp_sol(arr_equipos,16,10)\n",
        "i = 0\n",
        "mejor_simulacion = []\n",
        "mejor_ingreso = 0\n",
        "jornadas_simuladas = []\n",
        "\n",
        "while(i < n_simulaciones):\n",
        "\n",
        "  #Agregamos una variable con los horarios que deben ser obligatorios\n",
        "  #[3,0] y [3,3] indican que todas las jornadas de futbol deben tener algun partido en Lunes y Viernes\n",
        "  enfr_equipos,horario_jornada = get_emp_equipos(arr_equipos,[[3,0],[3,3]])\n",
        "\n",
        "  if(enfr_equipos not in jornadas_simuladas):\n",
        "    ingres_tot_aud = get_costo_jornada(enfr_equipos,horario_jornada)\n",
        "    jornadas_simuladas.append(enfr_equipos)\n",
        "\n",
        "    if(ingres_tot_aud > mejor_ingreso):\n",
        "      mejor_ingreso = ingres_tot_aud\n",
        "      mejor_simulacion = enfr_equipos\n",
        "\n",
        "      i = i +1\n",
        "\n",
        "print(f\"Jornada Definida: {mejor_simulacion}\")\n",
        "print(f\"Ingreso Maximo: {mejor_ingreso}\")"
      ],
      "metadata": {
        "id": "Y8OzByBDyzg5",
        "colab": {
          "base_uri": "https://localhost:8080/"
        },
        "outputId": "fdd17554-5778-4fd5-a68a-33cca1c2507a"
      },
      "execution_count": null,
      "outputs": [
        {
          "output_type": "stream",
          "name": "stdout",
          "text": [
            "Jornada Definida: [(1, 2, [3, 0]), (1, 2, [3, 3]), (0, 0, [3, 2]), (1, 1, [2, 1]), (1, 1, [3, 1]), (1, 2, [0, 2]), (0, 1, [2, 2]), (1, 2, [3, 1]), (1, 1, [1, 2])]\n",
            "Ingreso Maximo: 5.0\n"
          ]
        }
      ]
    },
    {
      "cell_type": "markdown",
      "source": [
        "\n",
        "\n",
        "---\n",
        "\n"
      ],
      "metadata": {
        "id": "fhiHhu2eguEC"
      }
    },
    {
      "cell_type": "markdown",
      "metadata": {
        "id": "tgrnsC2nkFa8"
      },
      "source": [
        "# Complejidad del algoritmo - Fuerza Bruta"
      ]
    },
    {
      "cell_type": "markdown",
      "source": [
        "Se podría considerar la solución anterior como una solución aleatoria; dado que consideramos el número de simulaciones de manera arbitraria, no existe un aval de que este número de soluciones nos de buenos resultados.\n",
        "\n",
        "Por otro lado, de querer obtener mejores resultados, tendriamos que aumentar el número de soluciones; esto no es nada optimo dado que tenemos un espacio de soluciones extremadamente alto.\n"
      ],
      "metadata": {
        "id": "CefwBN43bN16"
      }
    },
    {
      "cell_type": "markdown",
      "metadata": {
        "id": "9eUd3xwckP68"
      },
      "source": [
        "Analizando el código, tenemos:\n",
        "\n",
        "1.   La complejidad del bucle depende del \"número de simulaciones a implementar\"; esto nos daría una complejidad de O(m), siendo m el número de simulaciones.\n",
        "2.   En cada bucle de las simulaciones se hace un llamado a la función \"get_emp_equipo\" que tiene una complejidad en el peor de los casos de O(n/2) u O(n), siendo n el número de equipos que tendremos en nuestra liga.\n",
        "3.  El resto de funciones a implementar son de complejidad constante, por ende podriamos indicar que la complejidad del algoritmo sería de O(m*n), donde m es el número de simulaciones y n es el número de equipos.\n",
        "\n"
      ]
    },
    {
      "cell_type": "markdown",
      "source": [
        "\n",
        "\n",
        "---\n",
        "\n"
      ],
      "metadata": {
        "id": "rTChwmNYgk2n"
      }
    },
    {
      "cell_type": "markdown",
      "metadata": {
        "id": "txbrmLmskReM"
      },
      "source": [
        "# Mejora sobre el algoritmo de Fuerza Bruta\n",
        "Diseño un algoritmo que mejore la complejidad del algortimo por fuerza bruta(*)"
      ]
    },
    {
      "cell_type": "markdown",
      "source": [
        "El algoritmo implementado anteriormente es un algoritmo de fuerza bruta que utiliza un limite de iteraciones debido a que este consumiria todos los recursos disponibles y no daría una solución al respecto.\n",
        "\n",
        "Debido a ello, para mejorar la solución a este problema haremos uso de la tecnica Tabu Search que a nuestro parecer se podría adaptar bastante bien a este problema por estos motivos:\n",
        "\n",
        "1.   Podriamos reutilizar el código para obtener uan solución inicial, usaremos la función \"get_emp_equipos\" para obtener una distribución de equipos de una jornada inicial.\n",
        "2.   Utilizariamos la exploración de vecindad para obtener vecinos a nuestra solución inicial que tenga un costo de recaudación mayor a nuestra solución inicial.\n",
        "\n",
        "3.  Otras de las ventajas de la tecnica a utilizar sería la facilidad de implementación y flexibilidad de esta tecnica a distintos problemas.\n",
        "\n",
        "4. Finalmente, consideramos que es una tecnica bastante robusta, que se adapta a diversos problemas de distintos ambitos.\n",
        "\n"
      ],
      "metadata": {
        "id": "hA4a8Bpur2Li"
      }
    },
    {
      "cell_type": "code",
      "execution_count": null,
      "metadata": {
        "id": "QzShmRkC704g"
      },
      "outputs": [],
      "source": [
        "# Definimos una funcion que nos permitiria generar vecinos de nuestra solucion input\n",
        "def generar_vecindario(jornada):\n",
        "  vecindario = []\n",
        "  for i in range(0,len(jornada)-1):\n",
        "    for j in range(i+1, len(jornada)):\n",
        "      vecina = jornada.copy()\n",
        "      int_1 = (jornada[i][0],jornada[i][1],jornada[j][2])\n",
        "      int_2 = (jornada[j][0],jornada[j][1],jornada[i][2])\n",
        "      vecina[i] = int_1\n",
        "      vecina[j] = int_2\n",
        "      vecindario.append(vecina)\n",
        "  return vecindario"
      ]
    },
    {
      "cell_type": "code",
      "source": [
        "#Implementamos una función de apoyo que nos permitira obtener el horario de la jornada vecina generada\n",
        "def get_jornada(jornada):\n",
        "  hor_validos = get_horar_validos(matriz_audiencia)\n",
        "  horario_jornada = np.zeros((matriz_audiencia.shape))\n",
        "\n",
        "  for i in range(len(jornada)):\n",
        "    horario_jornada[enfr_equipos[i][2][0], enfr_equipos[i][2][1]] = horario_jornada[enfr_equipos[i][2][0], enfr_equipos[i][2][1]]  + 1\n",
        "\n",
        "  return horario_jornada"
      ],
      "metadata": {
        "id": "RIrg8WBXLKIL"
      },
      "execution_count": null,
      "outputs": []
    },
    {
      "cell_type": "code",
      "source": [
        "# Obtenemos los enfrentamientos validos segun clasificacion de los equipos y los horarios disponibles en donde pueden enfrentarse\n",
        "enfr_validos = get_enfrent_validos(matriz_ingresos)\n",
        "hor_validos = get_horar_validos(matriz_audiencia)"
      ],
      "metadata": {
        "id": "mJ5CLHnDAoxy"
      },
      "execution_count": null,
      "outputs": []
    },
    {
      "cell_type": "code",
      "metadata": {
        "id": "m1eyM21Vkabg",
        "colab": {
          "base_uri": "https://localhost:8080/"
        },
        "outputId": "1fe28ed9-8bae-4d3d-9def-da0171f8d6a8"
      },
      "source": [
        "# Ejemplo de uso de la funcion para obtener una jornada de futbol aleatoria, con partidos obligatorios Lunes y Viernes\n",
        "enfr_equipos,horario_jornada = get_emp_equipos(arr_equipos, [[3,0],[3,3]])\n",
        "ingres_tot_aud = get_costo_jornada(enfr_equipos,horario_jornada)\n",
        "\n",
        "print(f\"Enfrentamientos: {enfr_equipos}\")\n",
        "print(f\"Ingreso Recibido: {ingres_tot_aud}\")"
      ],
      "execution_count": null,
      "outputs": [
        {
          "output_type": "stream",
          "name": "stdout",
          "text": [
            "Enfrentamientos: [(1, 2, [3, 0]), (0, 1, [3, 3]), (1, 2, [3, 0]), (1, 2, [0, 2]), (1, 1, [2, 1]), (1, 2, [2, 1]), (0, 2, [3, 2]), (1, 2, [3, 2]), (0, 1, [0, 1]), (1, 1, [3, 3])]\n",
            "Ingreso Recibido: 3.3\n"
          ]
        }
      ]
    },
    {
      "cell_type": "code",
      "source": [
        "# Ejemplo de uso de generación de vecindad de la jornada de liga aleatoria\n",
        "vecindario = generar_vecindario(enfr_equipos)\n",
        "\n",
        "# Listamos todos los vecinos que hemos generado\n",
        "for i in range(len(vecindario)):\n",
        "  print(f\"Vecino N°{i}: {vecindario[i]}\")"
      ],
      "metadata": {
        "colab": {
          "base_uri": "https://localhost:8080/"
        },
        "id": "x1Qz9bz0B_vC",
        "outputId": "0ece7da8-6cad-450f-c137-233c6529a624"
      },
      "execution_count": null,
      "outputs": [
        {
          "output_type": "stream",
          "name": "stdout",
          "text": [
            "Vecino N°0: [(1, 2, [3, 3]), (0, 1, [3, 0]), (1, 2, [3, 0]), (1, 2, [0, 2]), (1, 1, [2, 1]), (1, 2, [2, 1]), (0, 2, [3, 2]), (1, 2, [3, 2]), (0, 1, [0, 1]), (1, 1, [3, 3])]\n",
            "Vecino N°1: [(1, 2, [3, 0]), (0, 1, [3, 3]), (1, 2, [3, 0]), (1, 2, [0, 2]), (1, 1, [2, 1]), (1, 2, [2, 1]), (0, 2, [3, 2]), (1, 2, [3, 2]), (0, 1, [0, 1]), (1, 1, [3, 3])]\n",
            "Vecino N°2: [(1, 2, [0, 2]), (0, 1, [3, 3]), (1, 2, [3, 0]), (1, 2, [3, 0]), (1, 1, [2, 1]), (1, 2, [2, 1]), (0, 2, [3, 2]), (1, 2, [3, 2]), (0, 1, [0, 1]), (1, 1, [3, 3])]\n",
            "Vecino N°3: [(1, 2, [2, 1]), (0, 1, [3, 3]), (1, 2, [3, 0]), (1, 2, [0, 2]), (1, 1, [3, 0]), (1, 2, [2, 1]), (0, 2, [3, 2]), (1, 2, [3, 2]), (0, 1, [0, 1]), (1, 1, [3, 3])]\n",
            "Vecino N°4: [(1, 2, [2, 1]), (0, 1, [3, 3]), (1, 2, [3, 0]), (1, 2, [0, 2]), (1, 1, [2, 1]), (1, 2, [3, 0]), (0, 2, [3, 2]), (1, 2, [3, 2]), (0, 1, [0, 1]), (1, 1, [3, 3])]\n",
            "Vecino N°5: [(1, 2, [3, 2]), (0, 1, [3, 3]), (1, 2, [3, 0]), (1, 2, [0, 2]), (1, 1, [2, 1]), (1, 2, [2, 1]), (0, 2, [3, 0]), (1, 2, [3, 2]), (0, 1, [0, 1]), (1, 1, [3, 3])]\n",
            "Vecino N°6: [(1, 2, [3, 2]), (0, 1, [3, 3]), (1, 2, [3, 0]), (1, 2, [0, 2]), (1, 1, [2, 1]), (1, 2, [2, 1]), (0, 2, [3, 2]), (1, 2, [3, 0]), (0, 1, [0, 1]), (1, 1, [3, 3])]\n",
            "Vecino N°7: [(1, 2, [0, 1]), (0, 1, [3, 3]), (1, 2, [3, 0]), (1, 2, [0, 2]), (1, 1, [2, 1]), (1, 2, [2, 1]), (0, 2, [3, 2]), (1, 2, [3, 2]), (0, 1, [3, 0]), (1, 1, [3, 3])]\n",
            "Vecino N°8: [(1, 2, [3, 3]), (0, 1, [3, 3]), (1, 2, [3, 0]), (1, 2, [0, 2]), (1, 1, [2, 1]), (1, 2, [2, 1]), (0, 2, [3, 2]), (1, 2, [3, 2]), (0, 1, [0, 1]), (1, 1, [3, 0])]\n",
            "Vecino N°9: [(1, 2, [3, 0]), (0, 1, [3, 0]), (1, 2, [3, 3]), (1, 2, [0, 2]), (1, 1, [2, 1]), (1, 2, [2, 1]), (0, 2, [3, 2]), (1, 2, [3, 2]), (0, 1, [0, 1]), (1, 1, [3, 3])]\n",
            "Vecino N°10: [(1, 2, [3, 0]), (0, 1, [0, 2]), (1, 2, [3, 0]), (1, 2, [3, 3]), (1, 1, [2, 1]), (1, 2, [2, 1]), (0, 2, [3, 2]), (1, 2, [3, 2]), (0, 1, [0, 1]), (1, 1, [3, 3])]\n",
            "Vecino N°11: [(1, 2, [3, 0]), (0, 1, [2, 1]), (1, 2, [3, 0]), (1, 2, [0, 2]), (1, 1, [3, 3]), (1, 2, [2, 1]), (0, 2, [3, 2]), (1, 2, [3, 2]), (0, 1, [0, 1]), (1, 1, [3, 3])]\n",
            "Vecino N°12: [(1, 2, [3, 0]), (0, 1, [2, 1]), (1, 2, [3, 0]), (1, 2, [0, 2]), (1, 1, [2, 1]), (1, 2, [3, 3]), (0, 2, [3, 2]), (1, 2, [3, 2]), (0, 1, [0, 1]), (1, 1, [3, 3])]\n",
            "Vecino N°13: [(1, 2, [3, 0]), (0, 1, [3, 2]), (1, 2, [3, 0]), (1, 2, [0, 2]), (1, 1, [2, 1]), (1, 2, [2, 1]), (0, 2, [3, 3]), (1, 2, [3, 2]), (0, 1, [0, 1]), (1, 1, [3, 3])]\n",
            "Vecino N°14: [(1, 2, [3, 0]), (0, 1, [3, 2]), (1, 2, [3, 0]), (1, 2, [0, 2]), (1, 1, [2, 1]), (1, 2, [2, 1]), (0, 2, [3, 2]), (1, 2, [3, 3]), (0, 1, [0, 1]), (1, 1, [3, 3])]\n",
            "Vecino N°15: [(1, 2, [3, 0]), (0, 1, [0, 1]), (1, 2, [3, 0]), (1, 2, [0, 2]), (1, 1, [2, 1]), (1, 2, [2, 1]), (0, 2, [3, 2]), (1, 2, [3, 2]), (0, 1, [3, 3]), (1, 1, [3, 3])]\n",
            "Vecino N°16: [(1, 2, [3, 0]), (0, 1, [3, 3]), (1, 2, [3, 0]), (1, 2, [0, 2]), (1, 1, [2, 1]), (1, 2, [2, 1]), (0, 2, [3, 2]), (1, 2, [3, 2]), (0, 1, [0, 1]), (1, 1, [3, 3])]\n",
            "Vecino N°17: [(1, 2, [3, 0]), (0, 1, [3, 3]), (1, 2, [0, 2]), (1, 2, [3, 0]), (1, 1, [2, 1]), (1, 2, [2, 1]), (0, 2, [3, 2]), (1, 2, [3, 2]), (0, 1, [0, 1]), (1, 1, [3, 3])]\n",
            "Vecino N°18: [(1, 2, [3, 0]), (0, 1, [3, 3]), (1, 2, [2, 1]), (1, 2, [0, 2]), (1, 1, [3, 0]), (1, 2, [2, 1]), (0, 2, [3, 2]), (1, 2, [3, 2]), (0, 1, [0, 1]), (1, 1, [3, 3])]\n",
            "Vecino N°19: [(1, 2, [3, 0]), (0, 1, [3, 3]), (1, 2, [2, 1]), (1, 2, [0, 2]), (1, 1, [2, 1]), (1, 2, [3, 0]), (0, 2, [3, 2]), (1, 2, [3, 2]), (0, 1, [0, 1]), (1, 1, [3, 3])]\n",
            "Vecino N°20: [(1, 2, [3, 0]), (0, 1, [3, 3]), (1, 2, [3, 2]), (1, 2, [0, 2]), (1, 1, [2, 1]), (1, 2, [2, 1]), (0, 2, [3, 0]), (1, 2, [3, 2]), (0, 1, [0, 1]), (1, 1, [3, 3])]\n",
            "Vecino N°21: [(1, 2, [3, 0]), (0, 1, [3, 3]), (1, 2, [3, 2]), (1, 2, [0, 2]), (1, 1, [2, 1]), (1, 2, [2, 1]), (0, 2, [3, 2]), (1, 2, [3, 0]), (0, 1, [0, 1]), (1, 1, [3, 3])]\n",
            "Vecino N°22: [(1, 2, [3, 0]), (0, 1, [3, 3]), (1, 2, [0, 1]), (1, 2, [0, 2]), (1, 1, [2, 1]), (1, 2, [2, 1]), (0, 2, [3, 2]), (1, 2, [3, 2]), (0, 1, [3, 0]), (1, 1, [3, 3])]\n",
            "Vecino N°23: [(1, 2, [3, 0]), (0, 1, [3, 3]), (1, 2, [3, 3]), (1, 2, [0, 2]), (1, 1, [2, 1]), (1, 2, [2, 1]), (0, 2, [3, 2]), (1, 2, [3, 2]), (0, 1, [0, 1]), (1, 1, [3, 0])]\n",
            "Vecino N°24: [(1, 2, [3, 0]), (0, 1, [3, 3]), (1, 2, [3, 0]), (1, 2, [2, 1]), (1, 1, [0, 2]), (1, 2, [2, 1]), (0, 2, [3, 2]), (1, 2, [3, 2]), (0, 1, [0, 1]), (1, 1, [3, 3])]\n",
            "Vecino N°25: [(1, 2, [3, 0]), (0, 1, [3, 3]), (1, 2, [3, 0]), (1, 2, [2, 1]), (1, 1, [2, 1]), (1, 2, [0, 2]), (0, 2, [3, 2]), (1, 2, [3, 2]), (0, 1, [0, 1]), (1, 1, [3, 3])]\n",
            "Vecino N°26: [(1, 2, [3, 0]), (0, 1, [3, 3]), (1, 2, [3, 0]), (1, 2, [3, 2]), (1, 1, [2, 1]), (1, 2, [2, 1]), (0, 2, [0, 2]), (1, 2, [3, 2]), (0, 1, [0, 1]), (1, 1, [3, 3])]\n",
            "Vecino N°27: [(1, 2, [3, 0]), (0, 1, [3, 3]), (1, 2, [3, 0]), (1, 2, [3, 2]), (1, 1, [2, 1]), (1, 2, [2, 1]), (0, 2, [3, 2]), (1, 2, [0, 2]), (0, 1, [0, 1]), (1, 1, [3, 3])]\n",
            "Vecino N°28: [(1, 2, [3, 0]), (0, 1, [3, 3]), (1, 2, [3, 0]), (1, 2, [0, 1]), (1, 1, [2, 1]), (1, 2, [2, 1]), (0, 2, [3, 2]), (1, 2, [3, 2]), (0, 1, [0, 2]), (1, 1, [3, 3])]\n",
            "Vecino N°29: [(1, 2, [3, 0]), (0, 1, [3, 3]), (1, 2, [3, 0]), (1, 2, [3, 3]), (1, 1, [2, 1]), (1, 2, [2, 1]), (0, 2, [3, 2]), (1, 2, [3, 2]), (0, 1, [0, 1]), (1, 1, [0, 2])]\n",
            "Vecino N°30: [(1, 2, [3, 0]), (0, 1, [3, 3]), (1, 2, [3, 0]), (1, 2, [0, 2]), (1, 1, [2, 1]), (1, 2, [2, 1]), (0, 2, [3, 2]), (1, 2, [3, 2]), (0, 1, [0, 1]), (1, 1, [3, 3])]\n",
            "Vecino N°31: [(1, 2, [3, 0]), (0, 1, [3, 3]), (1, 2, [3, 0]), (1, 2, [0, 2]), (1, 1, [3, 2]), (1, 2, [2, 1]), (0, 2, [2, 1]), (1, 2, [3, 2]), (0, 1, [0, 1]), (1, 1, [3, 3])]\n",
            "Vecino N°32: [(1, 2, [3, 0]), (0, 1, [3, 3]), (1, 2, [3, 0]), (1, 2, [0, 2]), (1, 1, [3, 2]), (1, 2, [2, 1]), (0, 2, [3, 2]), (1, 2, [2, 1]), (0, 1, [0, 1]), (1, 1, [3, 3])]\n",
            "Vecino N°33: [(1, 2, [3, 0]), (0, 1, [3, 3]), (1, 2, [3, 0]), (1, 2, [0, 2]), (1, 1, [0, 1]), (1, 2, [2, 1]), (0, 2, [3, 2]), (1, 2, [3, 2]), (0, 1, [2, 1]), (1, 1, [3, 3])]\n",
            "Vecino N°34: [(1, 2, [3, 0]), (0, 1, [3, 3]), (1, 2, [3, 0]), (1, 2, [0, 2]), (1, 1, [3, 3]), (1, 2, [2, 1]), (0, 2, [3, 2]), (1, 2, [3, 2]), (0, 1, [0, 1]), (1, 1, [2, 1])]\n",
            "Vecino N°35: [(1, 2, [3, 0]), (0, 1, [3, 3]), (1, 2, [3, 0]), (1, 2, [0, 2]), (1, 1, [2, 1]), (1, 2, [3, 2]), (0, 2, [2, 1]), (1, 2, [3, 2]), (0, 1, [0, 1]), (1, 1, [3, 3])]\n",
            "Vecino N°36: [(1, 2, [3, 0]), (0, 1, [3, 3]), (1, 2, [3, 0]), (1, 2, [0, 2]), (1, 1, [2, 1]), (1, 2, [3, 2]), (0, 2, [3, 2]), (1, 2, [2, 1]), (0, 1, [0, 1]), (1, 1, [3, 3])]\n",
            "Vecino N°37: [(1, 2, [3, 0]), (0, 1, [3, 3]), (1, 2, [3, 0]), (1, 2, [0, 2]), (1, 1, [2, 1]), (1, 2, [0, 1]), (0, 2, [3, 2]), (1, 2, [3, 2]), (0, 1, [2, 1]), (1, 1, [3, 3])]\n",
            "Vecino N°38: [(1, 2, [3, 0]), (0, 1, [3, 3]), (1, 2, [3, 0]), (1, 2, [0, 2]), (1, 1, [2, 1]), (1, 2, [3, 3]), (0, 2, [3, 2]), (1, 2, [3, 2]), (0, 1, [0, 1]), (1, 1, [2, 1])]\n",
            "Vecino N°39: [(1, 2, [3, 0]), (0, 1, [3, 3]), (1, 2, [3, 0]), (1, 2, [0, 2]), (1, 1, [2, 1]), (1, 2, [2, 1]), (0, 2, [3, 2]), (1, 2, [3, 2]), (0, 1, [0, 1]), (1, 1, [3, 3])]\n",
            "Vecino N°40: [(1, 2, [3, 0]), (0, 1, [3, 3]), (1, 2, [3, 0]), (1, 2, [0, 2]), (1, 1, [2, 1]), (1, 2, [2, 1]), (0, 2, [0, 1]), (1, 2, [3, 2]), (0, 1, [3, 2]), (1, 1, [3, 3])]\n",
            "Vecino N°41: [(1, 2, [3, 0]), (0, 1, [3, 3]), (1, 2, [3, 0]), (1, 2, [0, 2]), (1, 1, [2, 1]), (1, 2, [2, 1]), (0, 2, [3, 3]), (1, 2, [3, 2]), (0, 1, [0, 1]), (1, 1, [3, 2])]\n",
            "Vecino N°42: [(1, 2, [3, 0]), (0, 1, [3, 3]), (1, 2, [3, 0]), (1, 2, [0, 2]), (1, 1, [2, 1]), (1, 2, [2, 1]), (0, 2, [3, 2]), (1, 2, [0, 1]), (0, 1, [3, 2]), (1, 1, [3, 3])]\n",
            "Vecino N°43: [(1, 2, [3, 0]), (0, 1, [3, 3]), (1, 2, [3, 0]), (1, 2, [0, 2]), (1, 1, [2, 1]), (1, 2, [2, 1]), (0, 2, [3, 2]), (1, 2, [3, 3]), (0, 1, [0, 1]), (1, 1, [3, 2])]\n",
            "Vecino N°44: [(1, 2, [3, 0]), (0, 1, [3, 3]), (1, 2, [3, 0]), (1, 2, [0, 2]), (1, 1, [2, 1]), (1, 2, [2, 1]), (0, 2, [3, 2]), (1, 2, [3, 2]), (0, 1, [3, 3]), (1, 1, [0, 1])]\n"
          ]
        }
      ]
    },
    {
      "cell_type": "code",
      "source": [
        "# Definimos nuestro metodo que hace uso de la tecnica Tabu Search\n",
        "def tabu_search(arr_equipos,max_iter, tam_tabu):\n",
        "\n",
        "  # Definimos nuestra jornada inicial aleatoria con partidos obligatorios Lunes y Viernes\n",
        "  solucion_referencia,horario_referencia = get_emp_equipos(arr_equipos, [[3,0],[3,3]])\n",
        "  mejor_solucion = solucion_referencia.copy()\n",
        "  mejor_horario = horario_referencia.copy()\n",
        "  tabu_list = []\n",
        "\n",
        "  print(f\"Ingreso Inicial: {get_costo_jornada(mejor_solucion, mejor_horario)}\")\n",
        "\n",
        "  N=0\n",
        "  while N < max_iter:\n",
        "    N+=1\n",
        "    mejor_vecino = None\n",
        "    mejor_horario = None\n",
        "    mejor_ingreso = 0\n",
        "\n",
        "    #Generamos un vecindario de nuestra jornada inicial\n",
        "    vecindario = generar_vecindario(solucion_referencia)\n",
        "\n",
        "    # Recorremos nuestro vecindario y obtenemos el vecino que genere el mayor ingreso\n",
        "    for vecino in vecindario:\n",
        "      horario_jornada_vecino = get_jornada(vecino)\n",
        "      vecino_ingreso = get_costo_jornada(vecino, horario_jornada_vecino)\n",
        "      if vecino_ingreso > mejor_ingreso and (vecino not in tabu_list or vecino_ingreso > get_costo_jornada(mejor_vecino, mejor_horario)):\n",
        "        mejor_vecino = vecino\n",
        "        mejor_ingreso = vecino_ingreso\n",
        "        mejor_horario = horario_jornada_vecino\n",
        "\n",
        "    if mejor_vecino is not None:\n",
        "      solucion_referencia = mejor_vecino\n",
        "      if mejor_ingreso > get_costo_jornada(mejor_solucion, mejor_horario):\n",
        "          mejor_solucion = mejor_vecino\n",
        "\n",
        "    # Añadimos a la lista tabu\n",
        "    tabu_list.append(solucion_referencia)\n",
        "\n",
        "    # Eliminamos de la lista tabu segun el tamaño predefinido de la lista tabu\n",
        "    if len(tabu_list) > tam_tabu:\n",
        "      tabu_list.pop(0)\n",
        "\n",
        "  print(f\"Ingreso Final: {get_costo_jornada(mejor_solucion, mejor_horario)}\")\n",
        "\n",
        "  return mejor_solucion, mejor_horario, get_costo_jornada(mejor_vecino, mejor_horario)"
      ],
      "metadata": {
        "id": "Zq9QGynTJy7J"
      },
      "execution_count": null,
      "outputs": []
    },
    {
      "cell_type": "code",
      "source": [
        "# Ejemplo de uso de la función Tabu search\n",
        "# Hacemos 10 mil iteraciones con un tamaño de lista Tabu de 15 soluciones\n",
        "mejor_solucion, mejor_horario, mejor_ingreso = tabu_search(arr_equipos,10000, 15)\n",
        "print(f\"Enfrentamientos: {mejor_solucion}\")"
      ],
      "metadata": {
        "colab": {
          "base_uri": "https://localhost:8080/"
        },
        "id": "fKzD-Uc-6TzM",
        "outputId": "0a3606f4-5b3c-4dc8-c6c5-ee59d0794d56"
      },
      "execution_count": null,
      "outputs": [
        {
          "output_type": "stream",
          "name": "stdout",
          "text": [
            "Ingreso Inicial: 3.97\n",
            "Ingreso Final: 5.28\n",
            "Enfrentamientos: [(0, 1, [2, 2]), (0, 2, [3, 3]), (1, 2, [3, 3]), (1, 2, [3, 0]), (0, 2, [2, 1]), (1, 2, [3, 0]), (0, 2, [0, 2]), (0, 0, [3, 1]), (0, 2, [3, 2])]\n",
            "Ingreso Recibido: 5.28\n"
          ]
        }
      ]
    },
    {
      "cell_type": "markdown",
      "source": [
        "En la aplicación lineas arriba podemos observar que la solución de jornada inicial aleatoria presenta un ingreso de 3.97 millones de soles de ingresos. Posteriormente a aplicar la tecnica Tabu Search, logramos mejorar los ingresos percibidos a 5.28 millones de soles."
      ],
      "metadata": {
        "id": "y1m-znwX7xqZ"
      }
    },
    {
      "cell_type": "markdown",
      "source": [
        "\n",
        "\n",
        "---\n",
        "\n"
      ],
      "metadata": {
        "id": "DVCqUC6zghwH"
      }
    },
    {
      "cell_type": "markdown",
      "metadata": {
        "id": "DjOoKnO-4cWF"
      },
      "source": [
        "# Complejidad del algoritmo - Tabu Search"
      ]
    },
    {
      "cell_type": "markdown",
      "metadata": {
        "id": "dAitvSr54cWK"
      },
      "source": [
        "Analizando el nuevo código, tenemos:\n",
        "\n",
        "1. La complejidad del algoritmo depende de dos importantes factores, el número de iteraciones y la función de generación de vecindario.\n",
        "2. El resto de funciones utilizadas son de complejidad constante.\n",
        "3. La función de generación de vecindario recorre 2 veces el número de equipos  (2 for anidados), por lo que podriamos indicar que tiene complejidad O(n²).\n",
        "4. Dado que la generación de vecindario se genera un número arbitrario de iteraciones, podriamos indicar que la complejidad del algoritmo es de O(n_iteraciones * n²)"
      ]
    },
    {
      "cell_type": "markdown",
      "source": [
        "\n",
        "\n",
        "---\n",
        "\n"
      ],
      "metadata": {
        "id": "LSi4Bg7CgF2C"
      }
    },
    {
      "cell_type": "markdown",
      "metadata": {
        "id": "7DMvF1ef4hVh"
      },
      "source": [
        "# Ejecución del algoritmo Tabu Search"
      ]
    },
    {
      "cell_type": "markdown",
      "source": [
        "En esta sección se abarcaran 2 puntos:\n",
        "\n",
        "1.   Diseño de datos aleatorios.\n",
        "2.   Aplicación del algoritmo Tabu Search para los datos generados.\n",
        "\n"
      ],
      "metadata": {
        "id": "Rg1E9DL04t-3"
      }
    },
    {
      "cell_type": "code",
      "source": [
        "# Función que genera n equipos de clasificacion A, B o C\n",
        "# El número de equipos de cada clase se genera de manera aleatoria\n",
        "def get_equipos_aleat(n):\n",
        "  arr_equipos = [random.randint(0, 2) for _ in range(n)]\n",
        "  return arr_equipos"
      ],
      "metadata": {
        "id": "dztRJ8MN5YiB"
      },
      "execution_count": null,
      "outputs": []
    },
    {
      "cell_type": "code",
      "source": [
        "# Función que emula un juedo de datos aleatorios\n",
        "# Definimos 25 equipos de la liga\n",
        "arr_equipos_aleat = get_equipos_aleat(25)\n",
        "print(arr_equipos_aleat)\n",
        "\n",
        "# Uso de la tecnica de Tabu Search para encontrar la combinación de equipos que maximice los ingresos de audiencia\n",
        "mejor_solucion, mejor_horario, mejor_ingreso = tabu_search(arr_equipos,10000, 15)"
      ],
      "metadata": {
        "colab": {
          "base_uri": "https://localhost:8080/"
        },
        "id": "ddx3pbZV6sdA",
        "outputId": "67ac675c-8ddc-4de0-ceea-5aa21eade51d"
      },
      "execution_count": null,
      "outputs": [
        {
          "output_type": "stream",
          "name": "stdout",
          "text": [
            "[0, 2, 1, 1, 1, 2, 2, 0, 1, 1, 2, 1, 1, 0, 1, 1, 2, 1, 0, 0, 0, 1, 2, 2, 0]\n",
            "Ingreso Inicial: 2.72\n",
            "Ingreso Final: 4.45\n"
          ]
        }
      ]
    },
    {
      "cell_type": "markdown",
      "source": [
        "\n",
        "\n",
        "---\n",
        "\n"
      ],
      "metadata": {
        "id": "tz0QN4OUgQo2"
      }
    },
    {
      "cell_type": "markdown",
      "metadata": {
        "id": "DOHBEkht7V7k"
      },
      "source": [
        "# Conclusiones"
      ]
    },
    {
      "cell_type": "markdown",
      "metadata": {
        "id": "kAkDPUyRtYyH"
      },
      "source": [
        "Describir brevemente las lineas de como crees que es posible avanzar en el estudio del problema. Ten en cuenta incluso posibles variaciones del problema y/o variaciones al alza del tamaño:"
      ]
    },
    {
      "cell_type": "markdown",
      "source": [
        "La solución desarollada en este trabajo es una ejemplificación de como un algoritmo mas sofisticado puede mejorar de manera aceptable el rendimiento de un algoritmo de fuerza bruta; sin embargo existen algunos puntos que no considera y que podrian implementarse en futuros ejercicios para mejorar la calidad de la solución presentada.\n",
        "\n",
        "Entre los principales puntos identificados, tenemos:\n",
        "\n",
        "1.   Utilizar diferentes generadores de vecindarios.\n",
        "2.   La asignación de horarios obligatorios que se desarollo no es la más eficiente (es algo arbitraria y permite cumplir con la restricción); se podría desarollar un algoritmo que cumpla la restricción y mejore incluso el rendimiento de la solución actual.\n",
        "3.   Realizar mayor cantidad de simulaciones con diferentes horarios y matrices de audiencias.\n",
        "4.   La implementación mostrada genera una jornada de una liga de futbol, pero sería interesante realizar todas las jornadas de una competencia (se tendria que evitar enfrentamientos repetidos y considerar dentro de la función la diferencia entre partidos de local y visitante).\n",
        "5.   Probar otros algoritmos de busqueda local, como Recocido Simulado o Grasp. Asimismo, podriamos considerar el uso de algoritmos Bioinspirados como el colonia de hormigas (ACO) o el colonia de abejas (ABC).\n",
        "\n"
      ],
      "metadata": {
        "id": "hl1mI39mIcoE"
      }
    },
    {
      "cell_type": "markdown",
      "metadata": {
        "id": "E0Cx97aU_1R7"
      },
      "source": [
        "# Exportar"
      ]
    },
    {
      "cell_type": "code",
      "source": [
        "!apt-get install texlive texlive-xetex texlive-latex-extra pandoc\n",
        "!pip install pypandoc"
      ],
      "metadata": {
        "id": "lEuYbymq_rXK"
      },
      "execution_count": null,
      "outputs": []
    },
    {
      "cell_type": "code",
      "source": [
        "from google.colab import drive\n",
        "drive.mount('/content/drive')"
      ],
      "metadata": {
        "colab": {
          "base_uri": "https://localhost:8080/"
        },
        "id": "10W6RXK4_sfb",
        "outputId": "fc34c267-8034-43c6-ad3e-0ab1fc7146f5"
      },
      "execution_count": 7,
      "outputs": [
        {
          "output_type": "stream",
          "name": "stdout",
          "text": [
            "Mounted at /content/drive\n"
          ]
        }
      ]
    },
    {
      "cell_type": "code",
      "source": [
        "!cp '/content/drive/MyDrive/Colab Notebooks/Seminario_Algoritmos_Final.ipynb' ./"
      ],
      "metadata": {
        "id": "qCebPno2_vAg"
      },
      "execution_count": 11,
      "outputs": []
    },
    {
      "cell_type": "code",
      "source": [
        "!jupyter nbconvert --to PDF \"Seminario_Algoritmos_Final.ipynb\""
      ],
      "metadata": {
        "colab": {
          "base_uri": "https://localhost:8080/"
        },
        "id": "lNv0tkwi_y4e",
        "outputId": "46450965-0fee-4130-e854-f8afd5ac38e7"
      },
      "execution_count": 13,
      "outputs": [
        {
          "output_type": "stream",
          "name": "stdout",
          "text": [
            "[NbConvertApp] Converting notebook Seminario_Algoritmos_Final.ipynb to PDF\n",
            "[NbConvertApp] Writing 81466 bytes to notebook.tex\n",
            "[NbConvertApp] Building PDF\n",
            "[NbConvertApp] Running xelatex 3 times: ['xelatex', 'notebook.tex', '-quiet']\n",
            "[NbConvertApp] Running bibtex 1 time: ['bibtex', 'notebook']\n",
            "[NbConvertApp] WARNING | bibtex had problems, most likely because there were no citations\n",
            "[NbConvertApp] PDF successfully created\n",
            "[NbConvertApp] Writing 89723 bytes to Seminario_Algoritmos_Final.pdf\n"
          ]
        }
      ]
    }
  ]
}